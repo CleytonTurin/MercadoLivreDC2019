{
 "cells": [
  {
   "cell_type": "markdown",
   "metadata": {
    "colab_type": "text",
    "id": "sXz1Nynw0yVg"
   },
   "source": [
    "# Desafio Mercado Livre - Cleyton Turin"
   ]
  },
  {
   "cell_type": "code",
   "execution_count": 1,
   "metadata": {
    "colab": {
     "base_uri": "https://localhost:8080/",
     "height": 102
    },
    "colab_type": "code",
    "executionInfo": {
     "elapsed": 432,
     "status": "ok",
     "timestamp": 1569681980859,
     "user": {
      "displayName": "Cleyton Turin",
      "photoUrl": "https://lh3.googleusercontent.com/a-/AAuE7mBD1K30tWWkdpOdcLWaUQteILlwyFdNeu9reTON=s64",
      "userId": "00200239321208372214"
     },
     "user_tz": 180
    },
    "id": "7WbEbxwY0yVk",
    "outputId": "1b07c35d-5aed-4032-e76f-ab6af6a5593f"
   },
   "outputs": [
    {
     "name": "stderr",
     "output_type": "stream",
     "text": [
      "[nltk_data] Downloading package punkt to\n",
      "[nltk_data]     /Users/cleytonturin/nltk_data...\n",
      "[nltk_data]   Package punkt is already up-to-date!\n",
      "[nltk_data] Downloading package stopwords to\n",
      "[nltk_data]     /Users/cleytonturin/nltk_data...\n",
      "[nltk_data]   Package stopwords is already up-to-date!\n"
     ]
    },
    {
     "data": {
      "text/plain": [
       "True"
      ]
     },
     "execution_count": 1,
     "metadata": {},
     "output_type": "execute_result"
    }
   ],
   "source": [
    "import numpy as np \n",
    "import pandas as pd \n",
    "from sklearn import preprocessing \n",
    "import time\n",
    "from sklearn.multiclass import OneVsRestClassifier\n",
    "from sklearn.svm import LinearSVC\n",
    "\n",
    "import unicodedata\n",
    "\n",
    "import pickle\n",
    "\n",
    "from sklearn.feature_extraction.text import CountVectorizer \n",
    "\n",
    "from sklearn.feature_extraction.text import TfidfTransformer\n",
    "\n",
    "from sklearn.model_selection import train_test_split \n",
    "\n",
    "from sklearn.metrics import classification_report\n",
    "\n",
    "import re\n",
    "import nltk\n",
    "from nltk.tokenize import sent_tokenize\n",
    "from nltk.tokenize import word_tokenize\n",
    "from nltk.corpus import stopwords\n",
    "nltk.download('punkt')\n",
    "nltk.download('stopwords')"
   ]
  },
  {
   "cell_type": "code",
   "execution_count": null,
   "metadata": {
    "colab": {
     "base_uri": "https://localhost:8080/",
     "height": 122
    },
    "colab_type": "code",
    "executionInfo": {
     "elapsed": 22671,
     "status": "ok",
     "timestamp": 1569679925109,
     "user": {
      "displayName": "Cleyton Turin",
      "photoUrl": "https://lh3.googleusercontent.com/a-/AAuE7mBD1K30tWWkdpOdcLWaUQteILlwyFdNeu9reTON=s64",
      "userId": "00200239321208372214"
     },
     "user_tz": 180
    },
    "id": "LYJGKR8F2J3-",
    "outputId": "674cd73b-4bba-458c-f908-729430ab16c6"
   },
   "outputs": [],
   "source": [
    "#conectando ao googleDrive\n",
    "\n",
    "from google.colab import drive\n",
    "\n",
    "drive.mount('/content/drive')"
   ]
  },
  {
   "cell_type": "markdown",
   "metadata": {
    "colab_type": "text",
    "id": "gKGIImQ30yVw"
   },
   "source": [
    "## Formulação do problema:\n",
    "    1 - Construir um classificador de produto de acordo com o titulo do produto;\n",
    "   "
   ]
  },
  {
   "cell_type": "markdown",
   "metadata": {
    "colab_type": "text",
    "id": "fthYm-sc0yVz"
   },
   "source": [
    "## Carregar os dados em um dataframe e preparar os dados"
   ]
  },
  {
   "cell_type": "code",
   "execution_count": 4,
   "metadata": {
    "colab": {},
    "colab_type": "code",
    "id": "QP_bMROcVRT0"
   },
   "outputs": [],
   "source": [
    "df_inicial = pd.read_csv('../train.csv')"
   ]
  },
  {
   "cell_type": "code",
   "execution_count": 7,
   "metadata": {
    "colab": {
     "base_uri": "https://localhost:8080/",
     "height": 34
    },
    "colab_type": "code",
    "executionInfo": {
     "elapsed": 3357,
     "status": "ok",
     "timestamp": 1569683091323,
     "user": {
      "displayName": "Cleyton Turin",
      "photoUrl": "https://lh3.googleusercontent.com/a-/AAuE7mBD1K30tWWkdpOdcLWaUQteILlwyFdNeu9reTON=s64",
      "userId": "00200239321208372214"
     },
     "user_tz": 180
    },
    "id": "2y_zU_mw0yV2",
    "outputId": "10993d8b-4f2a-47fe-df2b-5519cbb08789"
   },
   "outputs": [],
   "source": [
    "#df = pd.read_csv('train.csv')\n",
    "# create a dataframe\n",
    "df = pd.DataFrame(df_inicial[['title','category']].sample(200000))\n",
    "#df.columns=['text','label']\n",
    "df.shape\n",
    "df.to_csv('sample_train.csv')"
   ]
  },
  {
   "cell_type": "markdown",
   "metadata": {
    "colab_type": "text",
    "id": "oQDcuTVNuK0P"
   },
   "source": [
    "### Criando funções de limpeza"
   ]
  },
  {
   "cell_type": "code",
   "execution_count": 5,
   "metadata": {
    "colab": {},
    "colab_type": "code",
    "id": "-NRho4zhXJUZ"
   },
   "outputs": [],
   "source": [
    "def limpezaStrings(texto):\n",
    "    texto=unicodedata.normalize('NFKD', str(texto).lower()).encode('ASCII', 'ignore').decode('utf8')  \n",
    "    special_char_list = [':', ';', '?', '}', ')', '{', '(','/', '!']\n",
    "    for special_char in special_char_list:\n",
    "        texto=texto.replace(special_char, '')\n",
    "    texto=re.sub(r'[^\\w \\xC0-\\xFF]',' ',texto)\n",
    "    texto=re.sub(r'((www\\.[\\s]+)|(https?://[^\\s]+))',' ',texto)\n",
    "    texto=re.sub(r'(\\s[a-zA-Z]\\s)|(\\s[a-zA-Z]$)',' ',texto)\n",
    "    texto=re.sub(r'[0-9]',' ',texto)\n",
    "    texto=re.sub(r'\\s([a-zA-Z]{1,3})\\s',' ',texto)\n",
    "    texto=re.sub(r'\\s+',' ',texto)\n",
    "    return texto\n",
    "\n",
    "def removeStopWords(texto):\n",
    "    pt_stopwords = stopwords.words('portuguese') \n",
    "    es_stopwords = stopwords.words('spanish') \n",
    "    palavras = [i for i in texto.split() if not i in pt_stopwords]\n",
    "    palavras = [i for i in texto.split() if not i in es_stopwords]\n",
    "    palavras=palavras[0:15]\n",
    "    return (\" \".join(palavras))"
   ]
  },
  {
   "cell_type": "markdown",
   "metadata": {
    "colab_type": "text",
    "id": "B-k2oM3Q0F_o"
   },
   "source": [
    "### Aplicando funções de limpeza e tokenizando coluna title"
   ]
  },
  {
   "cell_type": "code",
   "execution_count": null,
   "metadata": {
    "colab": {
     "base_uri": "https://localhost:8080/",
     "height": 68
    },
    "colab_type": "code",
    "id": "-4nWj07SNVEN",
    "outputId": "917e2bf8-499f-474e-fb58-b07fa34f4715"
   },
   "outputs": [
    {
     "name": "stdout",
     "output_type": "stream",
     "text": [
      "iniciou limpa str:  10:57:25\n"
     ]
    }
   ],
   "source": [
    "print ('iniciou limpa str: ',time.strftime(\"%H:%M:%S\"))\n",
    "df['title']=df['title'].apply(limpezaStrings)\n",
    "print ('concluiu limpa str: ',time.strftime(\"%H:%M:%S\"))\n",
    "\n",
    "print ('iniciou remove stopword: ',time.strftime(\"%H:%M:%S\"))\n",
    "df['title']=df['title'].apply(removeStopWords)\n",
    "print ('concluiu remove stopword: ',time.strftime(\"%H:%M:%S\"))\n",
    "df.to_csv('base_geral_limpa.csv', index=False)\n",
    "#!cp base_geral_limpa.csv drive/My\\ Drive/python/desafioML/"
   ]
  },
  {
   "cell_type": "markdown",
   "metadata": {
    "colab_type": "text",
    "id": "njdSpRhvKlnP"
   },
   "source": [
    "### Cria bag of **Words**"
   ]
  },
  {
   "cell_type": "code",
   "execution_count": null,
   "metadata": {
    "colab": {},
    "colab_type": "code",
    "id": "kYW_1gfPKgvw"
   },
   "outputs": [],
   "source": [
    "vectorizer = CountVectorizer(analyzer=\"word\",tokenizer=word_tokenize,ngram_range=(1,2))\n",
    "print ('iniciou bag of words: ',time.strftime(\"%H:%M:%S\"))\n",
    "bagofWord = vectorizer.fit_transform(df['title'])\n",
    "tf_transformer=TfidfTransformer().fit(bagofWord)\n",
    "bagofWord=tf_transformer.transform(bagofWord)\n",
    "print ('concluiu bag of words: ',time.strftime(\"%H:%M:%S\"))\n",
    "filename = 'bagofword'\n",
    "outfile = open(filename,'wb')\n",
    "pickle.dump(bagofWord,outfile)\n",
    "outfile.close()\n",
    "#!cp bagofword drive/My\\ Drive/python/desafioML/"
   ]
  },
  {
   "cell_type": "code",
   "execution_count": null,
   "metadata": {
    "colab": {},
    "colab_type": "code",
    "id": "C36dpXukNVEh"
   },
   "outputs": [],
   "source": []
  },
  {
   "cell_type": "markdown",
   "metadata": {
    "colab_type": "text",
    "id": "0pkwL96i0yW0"
   },
   "source": [
    "# A abordagem de classificação"
   ]
  },
  {
   "cell_type": "code",
   "execution_count": 14,
   "metadata": {
    "colab": {},
    "colab_type": "code",
    "id": "Y1QJCqAsMdvW"
   },
   "outputs": [
    {
     "name": "stdout",
     "output_type": "stream",
     "text": [
      "(2000000, 2)\n",
      "(2000000, 274122)\n"
     ]
    }
   ],
   "source": [
    "#carrega amostra\n",
    "df=pd.read_csv('base_geral_limpa.csv')\n",
    "pickle_in = open(\"bagofWord\",\"rb\")\n",
    "bagofWord = pickle.load(pickle_in)\n",
    "\n",
    "print(df.shape)\n",
    "print(bagofWord.shape)\n",
    "\n"
   ]
  },
  {
   "cell_type": "markdown",
   "metadata": {
    "colab_type": "text",
    "id": "uZOeRsuE0yW3"
   },
   "source": [
    " ### Separando o dataframe em teste e treinamento"
   ]
  },
  {
   "cell_type": "code",
   "execution_count": null,
   "metadata": {
    "colab": {},
    "colab_type": "code",
    "id": "5uLiK9tg0yW6"
   },
   "outputs": [],
   "source": [
    "print ('iniciou separacao de teste e treino: ',time.strftime(\"%H:%M:%S\"))\n",
    "X_train, X_test, y_train, y_test = train_test_split(bagofWord, df['category'],stratify=df['category'], train_size=0.9,test_size = 0.1, random_state=42)\n",
    "print ('concluiu separacao de teste e treino: ',time.strftime(\"%H:%M:%S\"))"
   ]
  },
  {
   "cell_type": "code",
   "execution_count": null,
   "metadata": {
    "colab": {},
    "colab_type": "code",
    "id": "-SP2-IQgNVEr"
   },
   "outputs": [],
   "source": [
    "#Instanciando a classe, treinando e verificando o desempenho\n",
    "model = OneVsRestClassifier(LinearSVC(dual=False,max_iter=1500))\n",
    "print ('iniciou treinamento: ',time.strftime(\"%H:%M:%S\"))\n",
    "model.fit(X_train,y_train)\n",
    "print ('concluiu treinamento: ',time.strftime(\"%H:%M:%S\"))\n",
    "print ('iniciou predict: ',time.strftime(\"%H:%M:%S\"))\n",
    "y_test_hat=model.predict(X_test)\n",
    "print ('concluiu predict: ',time.strftime(\"%H:%M:%S\"))\n",
    "print('Precisao do model classifier na base de teste: {:.5f}\\n'.format(model.score(X_test, y_test)))\n",
    "#print(classification_report(y_test, y_test_hat))"
   ]
  },
  {
   "cell_type": "code",
   "execution_count": null,
   "metadata": {
    "colab": {},
    "colab_type": "code",
    "id": "8o5sndr-aKrS"
   },
   "outputs": [],
   "source": [
    "test = pd.read_csv('test.csv')\n",
    "test['title']=test['title'].apply(limpezaStrings)\n",
    "print(1)\n",
    "test['title']=test['title'].apply(removeStopWords)\n",
    "print(2)\n",
    "bwTest=vectorizer.transform(test['title'])\n",
    "bwTest=tf_transformer.transform(bwTest)\n",
    "print(3)\n",
    "#bwTest=preprocessing.normalize(bwTest)\n",
    "print(4)\n",
    "test['category']=model.predict(bwTest)"
   ]
  },
  {
   "cell_type": "code",
   "execution_count": null,
   "metadata": {
    "colab": {},
    "colab_type": "code",
    "id": "lf6Bzy4UcGYV"
   },
   "outputs": [],
   "source": [
    "test[['id','category']].to_csv('resposta10kk.csv', index=False)\n",
    "print(1)"
   ]
  },
  {
   "cell_type": "code",
   "execution_count": null,
   "metadata": {
    "colab": {},
    "colab_type": "code",
    "id": "GQN3jfWt6G_8"
   },
   "outputs": [],
   "source": [
    "#!cp resposta1k.csv drive/My\\ Drive/python/desafioML/"
   ]
  },
  {
   "cell_type": "code",
   "execution_count": null,
   "metadata": {
    "colab": {},
    "colab_type": "code",
    "id": "OcPuXWSINVE1"
   },
   "outputs": [],
   "source": [
    "y_test_hat=model.predict(X_test)\n",
    "print(classification_report(y_test, y_test_hat))"
   ]
  },
  {
   "cell_type": "code",
   "execution_count": null,
   "metadata": {
    "colab": {},
    "colab_type": "code",
    "id": "r7ZSBEsLNVE6"
   },
   "outputs": [],
   "source": [
    "filename = 'modelo5k'\n",
    "outfile = open(filename,'wb')\n",
    "pickle.dump(model,outfile)\n",
    "outfile.close()\n",
    "#!cp modelo.pk drive/My\\ Drive/python/desafioML/"
   ]
  },
  {
   "cell_type": "code",
   "execution_count": null,
   "metadata": {
    "colab": {},
    "colab_type": "code",
    "id": "OsIZc2jbNVE8"
   },
   "outputs": [],
   "source": []
  }
 ],
 "metadata": {
  "accelerator": "GPU",
  "colab": {
   "collapsed_sections": [],
   "machine_shape": "hm",
   "name": "Copy of svm.ipynb",
   "provenance": [
    {
     "file_id": "1HkxaG07cyuW8KyVAyUnOE5haSWpEt8Iv",
     "timestamp": 1569683172374
    }
   ],
   "toc_visible": true
  },
  "kernelspec": {
   "display_name": "Python 3",
   "language": "python",
   "name": "python3"
  },
  "language_info": {
   "codemirror_mode": {
    "name": "ipython",
    "version": 3
   },
   "file_extension": ".py",
   "mimetype": "text/x-python",
   "name": "python",
   "nbconvert_exporter": "python",
   "pygments_lexer": "ipython3",
   "version": "3.7.1"
  }
 },
 "nbformat": 4,
 "nbformat_minor": 2
}
